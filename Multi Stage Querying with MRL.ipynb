{
  "nbformat": 4,
  "nbformat_minor": 0,
  "metadata": {
    "colab": {
      "provenance": [],
      "gpuType": "T4"
    },
    "kernelspec": {
      "name": "python3",
      "display_name": "Python 3"
    },
    "language_info": {
      "name": "python"
    },
    "accelerator": "GPU"
  },
  "cells": [
    {
      "cell_type": "code",
      "execution_count": null,
      "metadata": {
        "id": "rmv32r9v2OnQ"
      },
      "outputs": [],
      "source": [
        "!pip install sentence_transformers\n",
        "!pip install qdrant-client\n",
        "!pip install langchain\n",
        "!pip install -U langchain-community\n",
        "\n",
        "!pip install pypdf"
      ]
    },
    {
      "cell_type": "code",
      "source": [
        "from sentence_transformers import SentenceTransformer\n",
        "from qdrant_client import QdrantClient\n",
        "\n",
        "from qdrant_client import models\n",
        "from qdrant_client.http.models import VectorParams, Distance\n",
        "\n",
        "from langchain.document_loaders import PyPDFLoader\n",
        "from langchain.text_splitter import RecursiveCharacterTextSplitter\n",
        "\n",
        "\n"
      ],
      "metadata": {
        "id": "uzniUCuD3WQD"
      },
      "execution_count": 39,
      "outputs": []
    },
    {
      "cell_type": "code",
      "source": [
        "model_name1='sentence-transformers/all-MiniLM-L6-v2'\n",
        "model1 = SentenceTransformer(model_name1)\n",
        "def small_embedding(text):\n",
        "\n",
        "    embedding = model1.encode(text)\n",
        "\n",
        "    return embedding\n",
        "\n"
      ],
      "metadata": {
        "id": "XGB0AqLV2R2T",
        "colab": {
          "base_uri": "https://localhost:8080/"
        },
        "outputId": "a2a4c551-f193-4673-d4c5-8e37ab1fb6c1"
      },
      "execution_count": 40,
      "outputs": [
        {
          "output_type": "stream",
          "name": "stderr",
          "text": [
            "/usr/local/lib/python3.10/dist-packages/huggingface_hub/file_download.py:1132: FutureWarning: `resume_download` is deprecated and will be removed in version 1.0.0. Downloads always resume when possible. If you want to force a new download, use `force_download=True`.\n",
            "  warnings.warn(\n"
          ]
        }
      ]
    },
    {
      "cell_type": "code",
      "source": [
        "model_name2='google-bert/bert-base-uncased'\n",
        "model2 = SentenceTransformer(model_name2)\n",
        "\n",
        "def large_embedding(text):\n",
        "\n",
        "    embedding = model2.encode(text)\n",
        "\n",
        "    return embedding\n"
      ],
      "metadata": {
        "id": "9Awda_sW2iIG",
        "colab": {
          "base_uri": "https://localhost:8080/"
        },
        "outputId": "f2fe0eb1-bee4-4ec1-f35c-d3ed180261ec"
      },
      "execution_count": 41,
      "outputs": [
        {
          "output_type": "stream",
          "name": "stderr",
          "text": [
            "WARNING:sentence_transformers.SentenceTransformer:No sentence-transformers model found with name google-bert/bert-base-uncased. Creating a new one with mean pooling.\n"
          ]
        }
      ]
    },
    {
      "cell_type": "code",
      "source": [],
      "metadata": {
        "id": "cifhZlEO3Qg8"
      },
      "execution_count": null,
      "outputs": []
    },
    {
      "cell_type": "code",
      "source": [
        "loaders = [\n",
        "    PyPDFLoader(\"/content/TEGI0570.pdf\"),\n",
        "]"
      ],
      "metadata": {
        "id": "podWY0fC08M7"
      },
      "execution_count": 42,
      "outputs": []
    },
    {
      "cell_type": "code",
      "source": [
        "docs = []\n",
        "chunk_size=550\n",
        "chunk_overlap = 50"
      ],
      "metadata": {
        "id": "f580ZNWX1ICA"
      },
      "execution_count": 43,
      "outputs": []
    },
    {
      "cell_type": "code",
      "source": [
        "r_splitter = RecursiveCharacterTextSplitter(\n",
        "    chunk_size=chunk_size,\n",
        "    chunk_overlap=chunk_overlap\n",
        "    )"
      ],
      "metadata": {
        "id": "fyBahmMQ1xXc"
      },
      "execution_count": 44,
      "outputs": []
    },
    {
      "cell_type": "code",
      "source": [
        "for loader in loaders:\n",
        "    docs.extend(loader.load())"
      ],
      "metadata": {
        "id": "0g0WJj5_1LX-"
      },
      "execution_count": 45,
      "outputs": []
    },
    {
      "cell_type": "code",
      "source": [
        "splits = r_splitter.split_documents(docs)\n"
      ],
      "metadata": {
        "id": "1eOZv5kh1Sy3"
      },
      "execution_count": 46,
      "outputs": []
    },
    {
      "cell_type": "code",
      "source": [
        "len(splits)"
      ],
      "metadata": {
        "colab": {
          "base_uri": "https://localhost:8080/"
        },
        "id": "PISi-EhoiHrX",
        "outputId": "ba5ebffe-b874-406e-d8b2-ee10e724c0fb"
      },
      "execution_count": 47,
      "outputs": [
        {
          "output_type": "execute_result",
          "data": {
            "text/plain": [
              "558"
            ]
          },
          "metadata": {},
          "execution_count": 47
        }
      ]
    },
    {
      "cell_type": "code",
      "source": [
        "client = QdrantClient(\":memory:\")\n",
        "COLLECTION_NAME = \"multi_stage_db\"\n"
      ],
      "metadata": {
        "id": "aUSHnB3i4ZcM"
      },
      "execution_count": 48,
      "outputs": []
    },
    {
      "cell_type": "code",
      "source": [
        "client.recreate_collection(\n",
        "    collection_name=COLLECTION_NAME,\n",
        "    vectors_config={\n",
        "        \"small-embedding\": models.VectorParams(\n",
        "            size=384,\n",
        "            distance=models.Distance.COSINE,\n",
        "            datatype=models.Datatype.FLOAT16\n",
        "        ),\n",
        "\n",
        "        \"large-embedding\": models.VectorParams(\n",
        "            size=768,\n",
        "            distance=models.Distance.COSINE,\n",
        "            datatype=models.Datatype.FLOAT16\n",
        "        ),\n",
        "\n",
        "    },\n",
        "\n",
        ")"
      ],
      "metadata": {
        "colab": {
          "base_uri": "https://localhost:8080/"
        },
        "id": "3_N4fe2q4aF4",
        "outputId": "24e197df-eeb4-44e9-82da-eca204d973cb"
      },
      "execution_count": 49,
      "outputs": [
        {
          "output_type": "stream",
          "name": "stderr",
          "text": [
            "<ipython-input-49-f5bd370b2c11>:1: DeprecationWarning: `recreate_collection` method is deprecated and will be removed in the future. Use `collection_exists` to check collection existence and `create_collection` instead.\n",
            "  client.recreate_collection(\n"
          ]
        },
        {
          "output_type": "execute_result",
          "data": {
            "text/plain": [
              "True"
            ]
          },
          "metadata": {},
          "execution_count": 49
        }
      ]
    },
    {
      "cell_type": "code",
      "source": [
        "\n",
        "for i in range(0,len(splits)):\n",
        "  client.upsert(\n",
        "      collection_name=COLLECTION_NAME,\n",
        "      points=[\n",
        "          models.PointStruct(\n",
        "              id=i,\n",
        "              vector={\n",
        "                  \"small-embedding\":small_embedding(splits[i].page_content),\n",
        "                  \"large-embedding\":large_embedding(splits[i].page_content),\n",
        "\n",
        "              },\n",
        "\n",
        "\n",
        "          )\n",
        "      ],\n",
        "  )\n"
      ],
      "metadata": {
        "id": "UHQxosoa5UUM"
      },
      "execution_count": 51,
      "outputs": []
    },
    {
      "cell_type": "code",
      "source": [
        "query_text = \"what are  measurement and Mismeasurement of Risk \"\n",
        "\n",
        "small_vector = small_embedding(query_text)\n",
        "large_vector = large_embedding(query_text)"
      ],
      "metadata": {
        "id": "x2U7bij5661O"
      },
      "execution_count": 52,
      "outputs": []
    },
    {
      "cell_type": "code",
      "source": [
        "\n",
        "\n",
        "result = client.query_points(\n",
        "    collection_name= COLLECTION_NAME,\n",
        "    prefetch=models.Prefetch(\n",
        "        query=small_vector,\n",
        "        using=\"small-embedding\",\n",
        "        limit=250,\n",
        "    ),\n",
        "    query=large_vector,\n",
        "    using=\"large-embedding\",\n",
        "    limit=5,\n",
        ")\n",
        "\n"
      ],
      "metadata": {
        "id": "0Ze2pPyr7TSk"
      },
      "execution_count": 57,
      "outputs": []
    },
    {
      "cell_type": "code",
      "source": [
        "result"
      ],
      "metadata": {
        "colab": {
          "base_uri": "https://localhost:8080/"
        },
        "id": "B6XInGBv7ksa",
        "outputId": "0f76ce52-9450-4213-af2c-106c8d8527cf"
      },
      "execution_count": 54,
      "outputs": [
        {
          "output_type": "execute_result",
          "data": {
            "text/plain": [
              "QueryResponse(points=[ScoredPoint(id=89, version=0, score=0.7794493511660554, payload={}, vector=None, shard_key=None, order_value=None), ScoredPoint(id=91, version=0, score=0.7788526646507342, payload={}, vector=None, shard_key=None, order_value=None), ScoredPoint(id=60, version=0, score=0.7761417323180546, payload={}, vector=None, shard_key=None, order_value=None), ScoredPoint(id=59, version=0, score=0.7751478526935258, payload={}, vector=None, shard_key=None, order_value=None), ScoredPoint(id=98, version=0, score=0.7738291759959877, payload={}, vector=None, shard_key=None, order_value=None)])"
            ]
          },
          "metadata": {},
          "execution_count": 54
        }
      ]
    },
    {
      "source": [
        "\n",
        "ids = [item.id for item in result.points]\n",
        "\n",
        "for i in ids:\n",
        "  print(splits[i].page_content)\n",
        "  print('\\n')\n",
        "  print('-'*75)"
      ],
      "cell_type": "code",
      "metadata": {
        "colab": {
          "base_uri": "https://localhost:8080/"
        },
        "id": "gRkfXzCHWR5d",
        "outputId": "322a3220-af21-41cf-b84b-fe26addd9466"
      },
      "execution_count": 55,
      "outputs": [
        {
          "output_type": "stream",
          "name": "stdout",
          "text": [
            "consistency of returns are most essential for its survival in the financial markets. Risk exposures will \n",
            "most likely not produce profits over the long run; however, they can seriously undermine the returns \n",
            "of a strategy over time. Furthermore, any attempt to forecast these risk exposures should be avoided \n",
            "simply because they cannot be predicted successfully. What matters is the ability to understand and \n",
            "measure several exposures and to be intentional about the selection of such exposures (Narang, \n",
            "2009). The author continues\n",
            "\n",
            "\n",
            "---------------------------------------------------------------------------\n",
            "desirable exposures or deal with undesirable types of exposures (Narang, 2009)\n",
            "\n",
            "\n",
            "---------------------------------------------------------------------------\n",
            "instruction. Because of that, traders are forced to think deeply about many aspects of their strategy. \n",
            "In this order, an enormous amount of effort on the part of the developer is required to make a \n",
            "computer implement a “black-box trading strategy” (Narang, 2009). \n",
            " \n",
            "The measurement and Mismeasurement of Risk \n",
            "Rather than accepting accidental risks, the disciplined trader attempts to isolate exactly what his \n",
            "edge is and focus his risk taking on those areas that isolate this edge. To isolate these risks, the trader\n",
            "\n",
            "\n",
            "---------------------------------------------------------------------------\n",
            "4 \n",
            " indiscipline, passion, greed, and fear from the investment process.” (Narang, 2009, pp. xii) Moreover, \n",
            "he enhances three reasons why the practice of developing algorithmic trading strategies should be \n",
            "highly considered for traders to be adopted; that is the benefit of deep thought, the measurement \n",
            "and mismeasurement of risk, and the disciplined implementation. \n",
            " \n",
            "The benefit of deep thought \n",
            "Although computers are powerful tools, they can achieve nothing without absolute precise\n",
            "\n",
            "\n",
            "---------------------------------------------------------------------------\n",
            "choose to close a portion of the position once profit equals the amount risked. \n",
            "Managing risk daily basis not only can reduce the volatility of the return of a strategy, but also, and \n",
            "far more important, can reduce the likelihood of large losses. In many cases, the failures of some \n",
            "quantitative traders are directed associated with failures to manage risk (Narang, 2009). \n",
            " \n",
            "2.3.3. Transaction Cost Models \n",
            "Narang describes a transaction cost model as “a way of quantifying the cost of making a trade of a\n",
            "\n",
            "\n",
            "---------------------------------------------------------------------------\n"
          ]
        }
      ]
    },
   
   
  
   
  ]
}
