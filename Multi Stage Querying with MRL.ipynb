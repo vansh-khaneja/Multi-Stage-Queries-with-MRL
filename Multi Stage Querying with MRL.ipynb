{
  "cells": [
    {
      "cell_type": "code",
      "execution_count": null,
      "metadata": {
        "id": "rmv32r9v2OnQ"
      },
      "outputs": [],
      "source": [
        "!pip install sentence_transformers\n",
        "!pip install qdrant-client\n",
        "!pip install langchain\n",
        "!pip install -U langchain-community\n",
        "\n",
        "!pip install pypdf\n",
        "!pip install openai"
      ]
    },
    {
      "cell_type": "code",
      "execution_count": null,
      "metadata": {
        "id": "uzniUCuD3WQD"
      },
      "outputs": [],
      "source": [
        "from sentence_transformers import SentenceTransformer\n",
        "from qdrant_client import QdrantClient\n",
        "\n",
        "from qdrant_client import models\n",
        "from qdrant_client.http.models import VectorParams, Distance\n",
        "\n",
        "from langchain.document_loaders import PyPDFLoader\n",
        "from langchain.text_splitter import RecursiveCharacterTextSplitter\n",
        "\n",
        "from openai import OpenAI\n",
        "\n"
      ]
    },
    {
      "cell_type": "code",
      "execution_count": null,
      "metadata": {
        "id": "qXGSoa-UOiD5"
      },
      "outputs": [],
      "source": [
        "openai_client = OpenAI()\n"
      ]
    },
    {
      "cell_type": "code",
      "execution_count": null,
      "metadata": {
        "id": "XGB0AqLV2R2T"
      },
      "outputs": [],
      "source": [
        "def small_embedding(text,model=\"text-embedding-3-small\"):\n",
        "  text = text.replace(\"\\n\", \" \")\n",
        "  return openai_client.embeddings.create(input = [text], model=model,dimensions=128).data[0].embedding\n",
        "\n"
      ]
    },
    {
      "cell_type": "code",
      "execution_count": null,
      "metadata": {
        "id": "9Awda_sW2iIG"
      },
      "outputs": [],
      "source": [
        "def large_embedding(text, model=\"text-embedding-3-large\"):\n",
        "  text = text.replace(\"\\n\", \" \")\n",
        "  return openai_client.embeddings.create(input = [text], model=model,dimensions=1024).data[0].embedding\n"
      ]
    },
    {
      "cell_type": "code",
      "execution_count": null,
      "metadata": {
        "id": "podWY0fC08M7"
      },
      "outputs": [],
      "source": [
        "loaders = [\n",
        "    PyPDFLoader(\"/content/TEGI0570.pdf\"),\n",
        "]"
      ]
    },
    {
      "cell_type": "code",
      "execution_count": null,
      "metadata": {
        "id": "f580ZNWX1ICA"
      },
      "outputs": [],
      "source": [
        "docs = []\n",
        "chunk_size=1050\n",
        "chunk_overlap = 50\n"
      ]
    },
    {
      "cell_type": "code",
      "execution_count": null,
      "metadata": {
        "id": "fyBahmMQ1xXc"
      },
      "outputs": [],
      "source": [
        "r_splitter = RecursiveCharacterTextSplitter(\n",
        "    chunk_size=chunk_size,\n",
        "    chunk_overlap=chunk_overlap\n",
        "    )"
      ]
    },
    {
      "cell_type": "code",
      "execution_count": null,
      "metadata": {
        "id": "0g0WJj5_1LX-"
      },
      "outputs": [],
      "source": [
        "for loader in loaders:\n",
        "    docs.extend(loader.load())"
      ]
    },
    {
      "cell_type": "code",
      "execution_count": null,
      "metadata": {
        "id": "1eOZv5kh1Sy3"
      },
      "outputs": [],
      "source": [
        "splits = r_splitter.split_documents(docs)\n"
      ]
    },
    {
      "cell_type": "code",
      "execution_count": null,
      "metadata": {
        "colab": {
          "base_uri": "https://localhost:8080/"
        },
        "id": "PISi-EhoiHrX",
        "outputId": "c3e4b1c7-287c-474f-90b0-45875c403072"
      },
      "outputs": [
        {
          "data": {
            "text/plain": [
              "309"
            ]
          },
          "execution_count": 62,
          "metadata": {},
          "output_type": "execute_result"
        }
      ],
      "source": [
        "len(splits)"
      ]
    },
    {
      "cell_type": "code",
      "execution_count": null,
      "metadata": {
        "id": "aUSHnB3i4ZcM"
      },
      "outputs": [],
      "source": [
        "client = QdrantClient(\":memory:\")\n",
        "COLLECTION_NAME = \"multi_stage_db\"\n"
      ]
    },
    {
      "cell_type": "code",
      "execution_count": null,
      "metadata": {
        "colab": {
          "base_uri": "https://localhost:8080/"
        },
        "id": "3_N4fe2q4aF4",
        "outputId": "378e08ce-2eb4-4240-867f-1c0c85207ffa"
      },
      "outputs": [
        {
          "name": "stderr",
          "output_type": "stream",
          "text": [
            "<ipython-input-64-0cdb92f01c42>:1: DeprecationWarning: `recreate_collection` method is deprecated and will be removed in the future. Use `collection_exists` to check collection existence and `create_collection` instead.\n",
            "  client.recreate_collection(\n"
          ]
        },
        {
          "data": {
            "text/plain": [
              "True"
            ]
          },
          "execution_count": 64,
          "metadata": {},
          "output_type": "execute_result"
        }
      ],
      "source": [
        "client.recreate_collection(\n",
        "    collection_name=COLLECTION_NAME,\n",
        "    vectors_config={\n",
        "        \"small-embedding\": models.VectorParams(\n",
        "            size=128,\n",
        "            distance=models.Distance.COSINE,\n",
        "            datatype=models.Datatype.FLOAT16\n",
        "        ),\n",
        "\n",
        "        \"large-embedding\": models.VectorParams(\n",
        "            size=1024,\n",
        "            distance=models.Distance.COSINE,\n",
        "            datatype=models.Datatype.FLOAT16\n",
        "        ),\n",
        "\n",
        "    },\n",
        "\n",
        ")"
      ]
    },
    {
      "cell_type": "code",
      "execution_count": null,
      "metadata": {
        "id": "UHQxosoa5UUM"
      },
      "outputs": [],
      "source": [
        "\n",
        "for i in range(0,len(splits)):\n",
        "  client.upsert(\n",
        "      collection_name=COLLECTION_NAME,\n",
        "      points=[\n",
        "          models.PointStruct(\n",
        "              id=i,\n",
        "              vector={\n",
        "                  \"small-embedding\":small_embedding(splits[i].page_content),\n",
        "                  \"large-embedding\":large_embedding(splits[i].page_content),\n",
        "\n",
        "              },\n",
        "\n",
        "\n",
        "          )\n",
        "      ],\n",
        "  )\n"
      ]
    },
    {
      "cell_type": "code",
      "execution_count": null,
      "metadata": {
        "id": "x2U7bij5661O"
      },
      "outputs": [],
      "source": [
        "query_text = \"what are  measurement and Mismeasurement of Risk \"\n",
        "\n",
        "small_vector = small_embedding(query_text)\n",
        "large_vector = large_embedding(query_text)"
      ]
    },
    {
      "cell_type": "code",
      "execution_count": null,
      "metadata": {
        "id": "0Ze2pPyr7TSk"
      },
      "outputs": [],
      "source": [
        "\n",
        "\n",
        "result = client.query_points(\n",
        "    collection_name= COLLECTION_NAME,\n",
        "    prefetch=models.Prefetch(\n",
        "        query=small_vector,\n",
        "        using=\"small-embedding\",\n",
        "        limit=50,\n",
        "    ),\n",
        "    query=large_vector,\n",
        "    using=\"large-embedding\",\n",
        "    limit=5,\n",
        ")\n",
        "\n"
      ]
    },
    {
      "cell_type": "code",
      "execution_count": null,
      "metadata": {
        "colab": {
          "base_uri": "https://localhost:8080/"
        },
        "id": "B6XInGBv7ksa",
        "outputId": "1247a643-c390-4195-d6f8-b44c27760251"
      },
      "outputs": [
        {
          "data": {
            "text/plain": [
              "QueryResponse(points=[ScoredPoint(id=48, version=0, score=0.5731798965683417, payload={}, vector=None, shard_key=None, order_value=None), ScoredPoint(id=49, version=0, score=0.511801688120779, payload={}, vector=None, shard_key=None, order_value=None), ScoredPoint(id=53, version=0, score=0.5016154467017568, payload={}, vector=None, shard_key=None, order_value=None), ScoredPoint(id=50, version=0, score=0.5012954712589167, payload={}, vector=None, shard_key=None, order_value=None), ScoredPoint(id=51, version=0, score=0.4720819299720585, payload={}, vector=None, shard_key=None, order_value=None)])"
            ]
          },
          "execution_count": 68,
          "metadata": {},
          "output_type": "execute_result"
        }
      ],
      "source": [
        "result"
      ]
    },
    {
      "cell_type": "code",
      "execution_count": null,
      "metadata": {
        "colab": {
          "base_uri": "https://localhost:8080/"
        },
        "id": "gRkfXzCHWR5d",
        "outputId": "12ded92c-f00a-40b1-c880-62832247efe9"
      },
      "outputs": [
        {
          "name": "stdout",
          "output_type": "stream",
          "text": [
            "10 \n",
            " Trend Reversion Yield Growth Quality\n",
            "Short Term\n",
            "Medium Term\n",
            "Long TermIntrinsic\n",
            "RelativeLiquid\n",
            "IliquidPhenomenon\n",
            "Time Horizon Bet Structure Instruments\n",
            "High\n",
            "Frequency\n",
            "ImplementationPrice FundamentalAlpha\n",
            "InputReturn \n",
            "Category\n",
            " \n",
            "Figure 2.3.4– Taxonomy of Theory-Driven Models \n",
            " \n",
            "2.3.2. Risk Models \n",
            "An attentive trader should not worry only about the avoidance of risk or reduction of loss. In addition \n",
            "to these goals, the intentional selection and sizing of exposures to improve the quality and \n",
            "consistency of returns are most essential for its survival in the financial markets. Risk exposures will \n",
            "most likely not produce profits over the long run; however, they can seriously undermine the returns \n",
            "of a strategy over time. Furthermore, any attempt to forecast these risk exposures should be avoided \n",
            "simply because they cannot be predicted successfully. What matters is the ability to understand and \n",
            "measure several exposures and to be intentional about the selection of such exposures (Narang, \n",
            "2009). The author continues\n",
            "\n",
            "\n",
            "---------------------------------------------------------------------------\n",
            "2009). The author continues \n",
            "“… the key to understand risk exposures as they relate to quant trading strategies is that risk \n",
            "exposures are those that are not intentionally sought out by the nature of whatever forecast the \n",
            "quant is making in the alpha model.” (Narang, 2009, pp. 56) \n",
            "The idea is that alpha models and risk models should present opposite perspectives. For example, if \n",
            "alpha models present a high probability forecast, risk models would largely control the size of \n",
            "desirable exposures or deal with undesirable types of exposures (Narang, 2009)\n",
            "\n",
            "\n",
            "---------------------------------------------------------------------------\n",
            "Managing risk daily basis not only can reduce the volatility of the return of a strategy, but also, and \n",
            "far more important, can reduce the likelihood of large losses. In many cases, the failures of some \n",
            "quantitative traders are directed associated with failures to manage risk (Narang, 2009). \n",
            " \n",
            "2.3.3. Transaction Cost Models \n",
            "Narang describes a transaction cost model as “a way of quantifying the cost of making a trade of a \n",
            "given size so that this information can be used in conjunction with the alpha and risk models to\n",
            "\n",
            "\n",
            "---------------------------------------------------------------------------\n",
            "11 \n",
            " Risk management involves some knowledge on the monetary amount the trader is willing to risk in \n",
            "addition to the amount it is aiming to profit. Without the sense of it, traders hold on losing positions \n",
            "longer than they should of close profitable positions too soon (Lien, 2015). The result, continues Lien, \n",
            "(2015), is that the trader ends up with a negative profit/loss relation (P/L), although he may have had \n",
            "more winning positions than losing positions. \n",
            "From the many types of risk models available, there are three main ways that a trader can have their \n",
            "approach in risk management. Authors, such as Basso (2019), Lien (2015), and Narang (2009), defend \n",
            "that position size limiting, risk-reward ratio, and stop-loss order represents a high degree of \n",
            "importance for risk management.  \n",
            "Limiting the size or eliminating it can work as an alternative to just accepting a given type of \n",
            "exposure. The trader, now in the role of a risk manager, should determine which of these courses of\n",
            "\n",
            "\n",
            "---------------------------------------------------------------------------\n",
            "action is appropriate for each kind of exposure and feed the risk model to assess if the trade is worth \n",
            "taking or not (Narang, 2009). \n",
            "How size is limited can be mainly approached by constraint or penalty forms. Hard constraints, as the \n",
            "name suggests, are set to establish a fixed position in terms of risk (Basso, 2019). For example, no \n",
            "position should be larger than 3% of the account balance, however, because the distance from the \n",
            "entry price to the stop-loss order price vary from trade to trade, the contract size of the position is \n",
            "adjusted so the risk does not increase. The penalty function work in a way that will allow a position \n",
            "to be greater than 3% but will impose heavier penalties to allow that. These penalties through \n",
            "research can be determined either from the data or from theory (Narang, 2009). \n",
            "Setting a risk-reward ratio to trading strategies is a powerful tool to keep a positive profit and loss \n",
            "ratio and to prevent traders from opening positions that ultimately are not worth the risk. It allows\n",
            "\n",
            "\n",
            "---------------------------------------------------------------------------\n"
          ]
        }
      ],
      "source": [
        "\n",
        "ids = [item.id for item in result.points]\n",
        "\n",
        "for i in ids:\n",
        "  print(splits[i].page_content)\n",
        "  print('\\n')\n",
        "  print('-'*75)"
      ]
    },
    {
      "cell_type": "code",
      "execution_count": null,
      "metadata": {
        "id": "WKtrcpO07d46"
      },
      "outputs": [],
      "source": []
    }
  ],
  "metadata": {
    "accelerator": "GPU",
    "colab": {
      "gpuType": "T4",
      "provenance": []
    },
    "kernelspec": {
      "display_name": "Python 3",
      "name": "python3"
    },
    "language_info": {
      "name": "python"
    }
  },
  "nbformat": 4,
  "nbformat_minor": 0
}
